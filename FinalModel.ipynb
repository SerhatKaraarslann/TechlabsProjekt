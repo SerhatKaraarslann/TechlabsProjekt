{
 "cells": [
  {
   "cell_type": "code",
   "execution_count": null,
   "id": "461358cf-ab12-4446-a83b-43f59a55b8f3",
   "metadata": {},
   "outputs": [],
   "source": [
    "Da untere 2 Auskommentierte Code Teile sind die Bilder von einem Open-Data Source Bilder runterzuladen. Da die Bilder in unserer\n",
    "lokalen Rechnern runtergeladen haben, wurde diese Teile auskommentiert."
   ]
  },
  {
   "cell_type": "code",
   "execution_count": null,
   "id": "4a0bd880-c7fe-4820-99ed-28df137ee699",
   "metadata": {},
   "outputs": [],
   "source": [
    "\"\"\"import urllib.request\n",
    "import tarfile\n",
    "import os\n",
    "\n",
    "# URLs für die zu ladenden .gz-Dateien\n",
    "links = [\n",
    "    'https://nihcc.box.com/shared/static/vfk49d74nhbxq3nqjg0900w5nvkorp5c.gz',\n",
    "    'https://nihcc.box.com/shared/static/i28rlmbvmfjbl8p2n3ril0pptcmcu9d1.gz',\n",
    "    'https://nihcc.box.com/shared/static/f1t00wrtdk94satdfb9olcolqx20z2jp.gz',\n",
    "    'https://nihcc.box.com/shared/static/0aowwzs5lhjrceb3qp67ahp0rd1l1etg.gz',\n",
    "]\n",
    "\n",
    "# Zielverzeichnis für extrahierte Dateien\n",
    "extract_dir = 'images'\n",
    "\n",
    "# Überprüfe, ob das Zielverzeichnis existiert, andernfalls erstelle es\n",
    "if not os.path.exists(extract_dir):\n",
    "    os.makedirs(extract_dir)\n",
    "\n",
    "# Schleife zum Herunterladen und Extrahieren jeder Datei\n",
    "for idx, link in enumerate(links):\n",
    "    # Erstelle den Dateinamen basierend auf der Indexnummer\n",
    "    compressed_file = f'images_{idx + 1:02d}.gz'\n",
    "\n",
    "    # Herunterladen der Datei\n",
    "    print(f'Downloading {compressed_file}...')\n",
    "    urllib.request.urlretrieve(link, compressed_file)\n",
    "    print(\"Download complete. Please check the checksum.\")\n",
    "\n",
    "    # Extrahieren der Datei\n",
    "    print(f'Extracting {compressed_file}...')\n",
    "    with tarfile.open(compressed_file, 'r:gz') as tar:\n",
    "        tar.extractall(path=extract_dir)\n",
    "    print(f\"Extraction complete. Files are saved in '{extract_dir}'.\")\n",
    "\n",
    "    # Lösche die .gz-Datei nach der Extraktion (optional)\n",
    "    os.remove(compressed_file)\n",
    "    print(f\"Deleted {compressed_file} after extraction.\")\n",
    "\n",
    "print(\"Processing complete.\")\"\"\""
   ]
  },
  {
   "cell_type": "code",
   "execution_count": null,
   "id": "3b37e478-b6cd-453b-8e8d-6dbb3f606a6d",
   "metadata": {},
   "outputs": [],
   "source": [
    "\"\"\"import os\n",
    "import numpy as np\n",
    "from PIL import Image\n",
    "\n",
    "# Verzeichnis mit den extrahierten Bildern\n",
    "extract_dir = 'images'\n",
    "\n",
    "# Erwartete Bildauflösung\n",
    "expected_resolution = (1024, 1024)\n",
    "\n",
    "# Akzeptierte Hounsfield-Werte (CT-Bereich)\n",
    "hounsfield_range = (-1024, 3071)\n",
    "\n",
    "# Zähler für Abweichungen\n",
    "resolution_mismatch_count = 0\n",
    "hounsfield_mismatch_count = 0\n",
    "\n",
    "# Funktion zur Überprüfung der Bildauflösung\n",
    "def check_resolution(image, expected_resolution):\n",
    "    return image.size == expected_resolution\n",
    "\n",
    "# Funktion zur Überprüfung der Hounsfield-Werte\n",
    "def check_hounsfield_values(image_array, hounsfield_range):\n",
    "    min_val, max_val = hounsfield_range\n",
    "    return np.min(image_array) >= min_val and np.max(image_array) <= max_val\n",
    "\n",
    "# Normierungsprüfung\n",
    "print(\"Starting normalization checks...\")\n",
    "\n",
    "# Durchlaufe alle Dateien im Verzeichnis\n",
    "for root, dirs, files in os.walk(extract_dir):\n",
    "    for file in files:\n",
    "        file_path = os.path.join(root, file)\n",
    "\n",
    "        # Stelle sicher, dass die Datei ein Bild ist, z.B. mit .png, .jpg oder .dcm\n",
    "        if file.lower().endswith(('.png', '.jpg', '.jpeg', '.dcm')):  # Du kannst hier die gewünschten Formate anpassen\n",
    "            try:\n",
    "                # Lade das Bild\n",
    "                img = Image.open(file_path)\n",
    "                img_array = np.array(img)\n",
    "\n",
    "                # Auflösung prüfen\n",
    "                if not check_resolution(img, expected_resolution):\n",
    "                    resolution_mismatch_count += 1\n",
    "                    print(f\"Resolution mismatch in {file}: {img.size}\")\n",
    "\n",
    "                # Hounsfield-Werte prüfen\n",
    "                if not check_hounsfield_values(img_array, hounsfield_range):\n",
    "                    hounsfield_mismatch_count += 1\n",
    "                    print(f\"Hounsfield value out of range in {file}: Min={np.min(img_array)}, Max={np.max(img_array)}\")\n",
    "\n",
    "            except Exception as e:\n",
    "                print(f\"Error processing {file}: {e}\")\n",
    "\n",
    "# Ausgabe der Gesamtzahl der Abweichungen\n",
    "print(f\"\\nTotal images with resolution mismatch: {resolution_mismatch_count}\")\n",
    "print(f\"Total images with Hounsfield value mismatch: {hounsfield_mismatch_count}\")\n",
    "print(\"Normalization checks complete.\") \"\"\""
   ]
  },
  {
   "cell_type": "code",
   "execution_count": 1,
   "id": "7bfe97d2-a99c-4d83-92e6-d58acfe06a57",
   "metadata": {},
   "outputs": [],
   "source": [
    "#Zuerst füge ich die benötigte Bibliotheken dazu, die genutzte Funktionen gehören."
   ]
  },
  {
   "cell_type": "code",
   "execution_count": 1,
   "id": "1e794706-ad98-4fd5-b5d4-24d347240a4a",
   "metadata": {},
   "outputs": [
    {
     "name": "stderr",
     "output_type": "stream",
     "text": [
      "2025-03-07 09:40:30.697129: I external/local_xla/xla/tsl/cuda/cudart_stub.cc:32] Could not find cuda drivers on your machine, GPU will not be used.\n",
      "2025-03-07 09:40:30.783262: I external/local_xla/xla/tsl/cuda/cudart_stub.cc:32] Could not find cuda drivers on your machine, GPU will not be used.\n",
      "2025-03-07 09:40:30.834506: E external/local_xla/xla/stream_executor/cuda/cuda_fft.cc:477] Unable to register cuFFT factory: Attempting to register factory for plugin cuFFT when one has already been registered\n",
      "WARNING: All log messages before absl::InitializeLog() is called are written to STDERR\n",
      "E0000 00:00:1741336830.887616    5314 cuda_dnn.cc:8310] Unable to register cuDNN factory: Attempting to register factory for plugin cuDNN when one has already been registered\n",
      "E0000 00:00:1741336830.902127    5314 cuda_blas.cc:1418] Unable to register cuBLAS factory: Attempting to register factory for plugin cuBLAS when one has already been registered\n",
      "2025-03-07 09:40:31.043860: I tensorflow/core/platform/cpu_feature_guard.cc:210] This TensorFlow binary is optimized to use available CPU instructions in performance-critical operations.\n",
      "To enable the following instructions: AVX2 FMA, in other operations, rebuild TensorFlow with the appropriate compiler flags.\n"
     ]
    }
   ],
   "source": [
    "import os\n",
    "import numpy as np\n",
    "import pandas as pd\n",
    "import tensorflow as tf\n",
    "from tensorflow.keras.preprocessing.image import ImageDataGenerator\n",
    "from tensorflow.keras.applications import EfficientNetB0\n",
    "from tensorflow.keras.layers import Dense, GlobalAveragePooling2D, Dropout, BatchNormalization,Input,Concatenate,Lambda\n",
    "from tensorflow.keras.models import Model\n",
    "from tensorflow.keras.optimizers import Adam\n",
    "from tensorflow.keras.callbacks import EarlyStopping, ReduceLROnPlateau\n",
    "from sklearn.model_selection import train_test_split\n",
    "from tensorflow.keras.regularizers import l2\n",
    "import matplotlib.pyplot as plt\n",
    "from sklearn.preprocessing import MultiLabelBinarizer\n",
    "from tensorflow.keras import regularizers"
   ]
  },
  {
   "cell_type": "code",
   "execution_count": 2,
   "id": "489f8067-a69a-45e6-b9c8-7e684e2654fb",
   "metadata": {
    "scrolled": true
   },
   "outputs": [
    {
     "data": {
      "text/plain": [
       "'Konstanten für dei Datenverarbeitung hinzugefügt. Wo die Bilder im lokalen Rechner gespeichert wird, welche Data als Klassifizierung \\nvon Bilder genutzt wird. Image Size werden in dem EfficientNet Modelle als 224 Pixel benutzt, deswegen habe ich hier es auch 224 Pixels begrenzt.\\nBatch Size wird meistens als 32 angenommen, Bei manche Fälle 16, 64 sogar 128 ist auch möglich.'"
      ]
     },
     "execution_count": 2,
     "metadata": {},
     "output_type": "execute_result"
    }
   ],
   "source": [
    "\"\"\"Konstanten für dei Datenverarbeitung hinzugefügt. Wo die Bilder im lokalen Rechner gespeichert wird, welche Data als Klassifizierung \n",
    "von Bilder genutzt wird. Image Size werden in dem EfficientNet Modelle als 224 Pixel benutzt, deswegen habe ich hier es auch 224 Pixels begrenzt.\n",
    "Batch Size wird meistens als 32 angenommen, Bei manche Fälle 16, 64 sogar 128 ist auch möglich.\"\"\""
   ]
  },
  {
   "cell_type": "code",
   "execution_count": 3,
   "id": "3697e82a-cc4a-44b8-bb09-be644a5fb736",
   "metadata": {},
   "outputs": [],
   "source": [
    "# Datenverzeichnis und CSV-Datei\n",
    "DATA_DIR = 'images2/images'\n",
    "CSV_FILE = 'Data_Entry_2017_v2020.csv'\n",
    "IMG_SIZE = 224\n",
    "BATCH_SIZE = 32\n"
   ]
  },
  {
   "cell_type": "code",
   "execution_count": 4,
   "id": "23af9075-7e3a-4123-a00e-159209f034ac",
   "metadata": {},
   "outputs": [
    {
     "name": "stdout",
     "output_type": "stream",
     "text": [
      "\n",
      "Krankheitsverteilung (absteigend):\n",
      "No Finding: 20353 (58.15%)\n",
      "Infiltration: 5048 (14.42%)\n",
      "Effusion: 3370 (9.63%)\n",
      "Atelectasis: 3345 (9.56%)\n",
      "Nodule: 1803 (5.15%)\n",
      "Pneumothorax: 1406 (4.02%)\n",
      "Mass: 1332 (3.81%)\n",
      "Consolidation: 1241 (3.55%)\n",
      "Pleural_Thickening: 1018 (2.91%)\n",
      "Cardiomegaly: 994 (2.84%)\n",
      "Emphysema: 726 (2.07%)\n",
      "Fibrosis: 721 (2.06%)\n",
      "Edema: 497 (1.42%)\n",
      "Pneumonia: 386 (1.10%)\n",
      "Hernia: 87 (0.25%)\n"
     ]
    }
   ],
   "source": [
    "# CSV-Datei einlesen\n",
    "data = pd.read_csv(CSV_FILE)\n",
    "\n",
    "# Bildpfade mit Unterordnern\n",
    "data['image_path'] = data['Image Index'].apply(\n",
    "    lambda x: os.path.join(\"images2/images\", x)  # Direkter Pfad ohne Unterordner\n",
    ")\n",
    "# Nur Bilder behalten, die wirklich existieren\n",
    "existing_images = set(os.listdir(DATA_DIR))\n",
    "data = data[data['Image Index'].isin(existing_images)]\n",
    "\n",
    "# One-Hot-Encoding mit MultiLabelBinarizer\n",
    "mlb = MultiLabelBinarizer()\n",
    "label_matrix = mlb.fit_transform(data['Finding Labels'].str.split('|'))\n",
    "all_diseases = mlb.classes_.tolist()\n",
    "\n",
    "# Datenverteilung (sortiert)\n",
    "disease_counts = label_matrix.sum(axis=0)\n",
    "sorted_indices = np.argsort(-disease_counts)\n",
    "print(\"\\nKrankheitsverteilung (absteigend):\")\n",
    "for idx in sorted_indices:\n",
    "    disease = all_diseases[idx]\n",
    "    count = disease_counts[idx]\n",
    "    percentage = (count / len(label_matrix)) * 100\n",
    "    print(f\"{disease}: {count} ({percentage:.2f}%)\")"
   ]
  },
  {
   "cell_type": "code",
   "execution_count": 5,
   "id": "93ab0463-e7d2-4472-8339-e08ddac0c242",
   "metadata": {},
   "outputs": [
    {
     "name": "stdout",
     "output_type": "stream",
     "text": [
      "Beispielpfade aus dem DataFrame:\n",
      "['images2/images/00000001_000.png', 'images2/images/00000001_001.png', 'images2/images/00000001_002.png', 'images2/images/00000002_000.png', 'images2/images/00000003_001.png']\n",
      "Existiert images2/images/00000001_000.png? → True\n",
      "Existiert images2/images/00000001_001.png? → True\n",
      "Existiert images2/images/00000001_002.png? → True\n",
      "Existiert images2/images/00000002_000.png? → True\n",
      "Existiert images2/images/00000003_001.png? → True\n"
     ]
    }
   ],
   "source": [
    "print(\"Beispielpfade aus dem DataFrame:\")\n",
    "print(data['image_path'].head(5).tolist())\n",
    "\n",
    "# Prüfe, ob die Bilder existieren\n",
    "for path in data['image_path'].head(5):\n",
    "    print(f\"Existiert {path}? → {os.path.exists(path)}\")"
   ]
  },
  {
   "cell_type": "code",
   "execution_count": 6,
   "id": "b0ac2fef-9f41-4908-b666-3fa57307db06",
   "metadata": {
    "scrolled": true
   },
   "outputs": [
    {
     "name": "stdout",
     "output_type": "stream",
     "text": [
      "Positivgewichte: [ 2.28708499  4.19479195  3.75439064  5.93084095  2.2785872   4.90789215\n",
      "  4.92486865 10.          1.86179406  3.62392508  1.          3.1149763\n",
      "  4.14507414  6.72880699  3.52730449]\n",
      "Negativgewichte: [1.         1.         1.         1.         1.         1.\n",
      " 1.         1.         1.         1.         0.85904187 1.\n",
      " 1.         1.         1.        ]\n"
     ]
    }
   ],
   "source": [
    "### Berechnung der Gewichte für unbalancierte Klassen\n",
    "def calculate_class_weights(label_matrix):\n",
    "    label_matrix = np.array(label_matrix)  # Falls DataFrame\n",
    "    total_samples = label_matrix.shape[0]\n",
    "    pos_counts = np.sum(label_matrix, axis=0)\n",
    "\n",
    "    # Positivgewichte: Skalierung über sqrt zur besseren Verteilung\n",
    "    pos_weights = np.sqrt(total_samples / (2 * pos_counts + 1))\n",
    "    pos_weights = np.clip(pos_weights, 1.0, 10.0)  # Reduziere max. auf 10 für Stabilität\n",
    "\n",
    "    # Negativgewichte: Sanfte Abstufung für seltene Klassen\n",
    "    neg_weights = np.exp(-pos_counts / total_samples) + 0.3\n",
    "    neg_weights = np.clip(neg_weights, 0.2, 1.0)\n",
    "\n",
    "    return pos_weights, neg_weights\n",
    "\n",
    "# Funktionsaufruf\n",
    "pos_weights, neg_weights = calculate_class_weights(label_matrix)\n",
    "print(\"Positivgewichte:\", pos_weights)\n",
    "print(\"Negativgewichte:\", neg_weights)"
   ]
  },
  {
   "cell_type": "code",
   "execution_count": 7,
   "id": "1d39a826-7107-46b2-9051-12d3ffbd2383",
   "metadata": {},
   "outputs": [],
   "source": [
    "def focal_loss_with_weights(alpha, gamma=2.0):\n",
    "    def loss(y_true, y_pred):\n",
    "        y_pred = tf.clip_by_value(y_pred, 1e-7, 1.0 - 1e-7)  # Numerische Stabilität\n",
    "        bce = -(y_true * tf.math.log(y_pred) + (1 - y_true) * tf.math.log(1 - y_pred))\n",
    "\n",
    "        # Focal Loss Skalar berechnen\n",
    "        focal_weight = alpha * (1 - y_pred) ** gamma * y_true + (y_pred ** gamma) * (1 - y_true)\n",
    "        return tf.reduce_mean(bce * focal_weight)\n",
    "\n",
    "    return loss\n"
   ]
  },
  {
   "cell_type": "code",
   "execution_count": 8,
   "id": "01078608-a89d-4525-bdbb-392b85dd379e",
   "metadata": {},
   "outputs": [],
   "source": [
    "# loss function to handle the weights better\n",
    "def weighted_binary_crossentropy(pos_weights, neg_weights):\n",
    "    pos_weights = tf.constant(pos_weights, dtype=tf.float32)\n",
    "    neg_weights = tf.constant(neg_weights, dtype=tf.float32)\n",
    "    \n",
    "    def loss(y_true, y_pred):\n",
    "        # Manuelle BCE-Berechnung zur Erhaltung der Klassen-Dimension\n",
    "        y_pred = tf.clip_by_value(y_pred, 1e-7, 1 - 1e-7)  # Numerische Stabilität\n",
    "        bce = - (y_true * tf.math.log(y_pred) + (1 - y_true) * tf.math.log(1 - y_pred))  # Shape: (batch, 15)\n",
    "        \n",
    "        # Gewichte anpassen\n",
    "        class_weights = y_true * pos_weights + (1 - y_true) * neg_weights\n",
    "        \n",
    "        # Gewichteten Verlust berechnen und mitteln\n",
    "        weighted_loss = tf.reduce_mean(bce * class_weights)\n",
    "        return weighted_loss\n",
    "    \n",
    "    return loss"
   ]
  },
  {
   "cell_type": "code",
   "execution_count": 9,
   "id": "27cbc61a-6b0c-4509-8938-d37cc7a17299",
   "metadata": {},
   "outputs": [],
   "source": [
    "from sklearn.model_selection import GroupShuffleSplit\n",
    "\n",
    "# Füge Multi-Hot-Encoded-Spalten zum DataFrame hinzu\n",
    "data[all_diseases] = label_matrix.astype(int)\n",
    "\n",
    "# Train/Validation-Split mit Patientengruppen\n",
    "splitter = GroupShuffleSplit(test_size=0.2, random_state=42)\n",
    "train_idx, val_idx = next(splitter.split(data, groups=data['Patient ID']))\n",
    "train_data, val_data = data.iloc[train_idx], data.iloc[val_idx]\n"
   ]
  },
  {
   "cell_type": "code",
   "execution_count": 10,
   "id": "29a34ea1-52f1-46bc-912f-65c1fd9bce71",
   "metadata": {},
   "outputs": [],
   "source": [
    "train_datagen = ImageDataGenerator(\n",
    "    preprocessing_function=lambda x: x/255.0,\n",
    "    rotation_range=5,\n",
    "    width_shift_range=0.05,\n",
    "    height_shift_range=0.05,\n",
    "    zoom_range=[0.95, 1.05],  # Keine großen Vergrößerungen\n",
    "    brightness_range=[0.98, 1.02],  # Minimale Helligkeitsänderung\n",
    "    channel_shift_range=10  # Simuliert Röntgen-Kontrastvariation\n",
    ")\n",
    "\n",
    "val_datagen = ImageDataGenerator(\n",
    "    preprocessing_function=lambda x: x/255.0,\n",
    "   # horizontal_flip=True  # Nur für Validation!\n",
    ")\n"
   ]
  },
  {
   "cell_type": "code",
   "execution_count": 11,
   "id": "9567cd17-c448-4386-892c-159f040dade2",
   "metadata": {
    "scrolled": true
   },
   "outputs": [
    {
     "name": "stdout",
     "output_type": "stream",
     "text": [
      "Beispielpfade aus dem DataFrame:\n",
      "['images2/images/00000002_000.png', 'images2/images/00000003_001.png', 'images2/images/00000003_002.png', 'images2/images/00000003_003.png', 'images2/images/00000003_004.png']\n"
     ]
    }
   ],
   "source": [
    "print(\"Beispielpfade aus dem DataFrame:\")\n",
    "print(train_data['image_path'].head(5).tolist())"
   ]
  },
  {
   "cell_type": "code",
   "execution_count": 12,
   "id": "953cfe2f-6454-42ac-9a14-69ea65ae1b35",
   "metadata": {},
   "outputs": [
    {
     "name": "stdout",
     "output_type": "stream",
     "text": [
      "Existiert images2/images/00000002_000.png? → True\n",
      "Existiert images2/images/00000003_001.png? → True\n",
      "Existiert images2/images/00000003_002.png? → True\n",
      "Existiert images2/images/00000003_003.png? → True\n",
      "Existiert images2/images/00000003_004.png? → True\n"
     ]
    }
   ],
   "source": [
    "import os\n",
    "for path in train_data['image_path'].head(5):\n",
    "    print(f\"Existiert {path}? → {os.path.exists(path)}\")"
   ]
  },
  {
   "cell_type": "code",
   "execution_count": 13,
   "id": "fa5037ba-4a46-4564-a291-2124a758fbe8",
   "metadata": {},
   "outputs": [
    {
     "name": "stdout",
     "output_type": "stream",
     "text": [
      "Found 27669 validated image filenames.\n",
      "Found 7330 validated image filenames.\n"
     ]
    }
   ],
   "source": [
    "train_generator = train_datagen.flow_from_dataframe(\n",
    "    dataframe=train_data,\n",
    "    x_col='image_path',\n",
    "    y_col=all_diseases,\n",
    "    target_size=(IMG_SIZE, IMG_SIZE),\n",
    "    color_mode='grayscale',\n",
    "    class_mode='raw',\n",
    "    batch_size=BATCH_SIZE\n",
    ")\n",
    "\n",
    "# Validation Data Generator (OHNE Augmentierung)\n",
    "val_datagen = ImageDataGenerator(rescale=1.0/255.0)\n",
    "\n",
    "val_generator = val_datagen.flow_from_dataframe(\n",
    "    dataframe=val_data,\n",
    "    x_col='image_path',\n",
    "    y_col=all_diseases,\n",
    "    target_size=(IMG_SIZE, IMG_SIZE),\n",
    "    color_mode='grayscale',\n",
    "    class_mode='raw',\n",
    "    batch_size=BATCH_SIZE,\n",
    "    shuffle=False  # Wichtig für konsistente Evaluation\n",
    ")"
   ]
  },
  {
   "cell_type": "code",
   "execution_count": 14,
   "id": "856935c4-935f-4b4a-9b6f-fe6ed7a8667d",
   "metadata": {},
   "outputs": [
    {
     "name": "stdout",
     "output_type": "stream",
     "text": [
      "\n",
      "Klassenverteilung im Training:\n",
      "Atelectasis            2632\n",
      "Cardiomegaly            770\n",
      "Consolidation           964\n",
      "Edema                   395\n",
      "Effusion               2629\n",
      "Emphysema               578\n",
      "Fibrosis                566\n",
      "Hernia                   74\n",
      "Infiltration           3952\n",
      "Mass                   1011\n",
      "No Finding            16173\n",
      "Nodule                 1380\n",
      "Pleural_Thickening      818\n",
      "Pneumonia               303\n",
      "Pneumothorax           1061\n",
      "dtype: int64\n",
      "\n",
      "Klassenverteilung in Validation:\n",
      "Atelectasis            713\n",
      "Cardiomegaly           224\n",
      "Consolidation          277\n",
      "Edema                  102\n",
      "Effusion               741\n",
      "Emphysema              148\n",
      "Fibrosis               155\n",
      "Hernia                  13\n",
      "Infiltration          1096\n",
      "Mass                   321\n",
      "No Finding            4180\n",
      "Nodule                 423\n",
      "Pleural_Thickening     200\n",
      "Pneumonia               83\n",
      "Pneumothorax           345\n",
      "dtype: int64\n"
     ]
    }
   ],
   "source": [
    "print(\"\\nKlassenverteilung im Training:\")\n",
    "print(train_data[all_diseases].sum())\n",
    "print(\"\\nKlassenverteilung in Validation:\")\n",
    "print(val_data[all_diseases].sum())"
   ]
  },
  {
   "cell_type": "code",
   "execution_count": 15,
   "id": "b5b64653-06d7-4b9e-9e42-875d7c5d4b25",
   "metadata": {},
   "outputs": [
    {
     "name": "stdout",
     "output_type": "stream",
     "text": [
      "Overlap: 0\n"
     ]
    }
   ],
   "source": [
    "train_ids = set(train_data['Patient ID'])\n",
    "val_ids = set(val_data['Patient ID'])\n",
    "print(f\"Overlap: {len(train_ids & val_ids)}\")  # Muss 0 sein!"
   ]
  },
  {
   "cell_type": "code",
   "execution_count": 16,
   "id": "870ec968-726b-476c-bc85-92b526e46ced",
   "metadata": {},
   "outputs": [
    {
     "name": "stdout",
     "output_type": "stream",
     "text": [
      "      Finding Labels  Patient ID\n",
      "4328      No Finding        1170\n",
      "8140    Infiltration        2135\n",
      "9603      No Finding        2492\n",
      "13987     No Finding        3610\n",
      "29446     No Finding        7670\n"
     ]
    }
   ],
   "source": [
    "print(data[['Finding Labels', 'Patient ID']].sample(5))"
   ]
  },
  {
   "cell_type": "code",
   "execution_count": 17,
   "id": "c71a6b72-d108-4092-9d33-354cbce7fc3a",
   "metadata": {},
   "outputs": [],
   "source": [
    "from tensorflow.keras.applications.efficientnet import preprocess_input  # Wichtig!\n",
    "\n",
    "inputs = Input(shape=(IMG_SIZE, IMG_SIZE, 1))\n",
    "\n",
    "x = Lambda(lambda img: tf.image.grayscale_to_rgb(img))(inputs)  # Konvertierung zu RGB\n",
    "x = Lambda(lambda x: x * 255.0)(x)  # Skalierung auf 0-255\n",
    "x = Lambda(preprocess_input)(x)  # EfficientNet-spezifische Normalisierung"
   ]
  },
  {
   "cell_type": "code",
   "execution_count": 18,
   "id": "f0a3551a-cade-47e9-89f5-202420aa202d",
   "metadata": {
    "scrolled": true
   },
   "outputs": [],
   "source": [
    "from tensorflow.keras.applications import ResNet50\n",
    "\n",
    "def build_model(model_name, img_size=224):\n",
    "    inputs = Input(shape=(img_size, img_size, 1))\n",
    "    \n",
    "    # Verbesserte Konvertierung von Graustufen zu RGB\n",
    "    x = Lambda(lambda img: tf.repeat(img, repeats=3, axis=-1))(inputs)\n",
    "    \n",
    "    # Modellspezifische Preprocessing mit besserer Fehlerbehandlung\n",
    "    try:\n",
    "        if model_name == \"EfficientNetB0\":\n",
    "            x = Lambda(lambda x: x * 255.0)(x)\n",
    "            x = Lambda(tf.keras.applications.efficientnet.preprocess_input)(x)\n",
    "            base_model = EfficientNetB0(\n",
    "                include_top=False, \n",
    "                weights='imagenet', \n",
    "                input_tensor=x, \n",
    "                pooling='avg'\n",
    "            )\n",
    "        elif model_name == \"ResNet50\":\n",
    "            x = Lambda(tf.keras.applications.resnet.preprocess_input)(x)\n",
    "            base_model = ResNet50(\n",
    "                include_top=False, \n",
    "                weights='imagenet', \n",
    "                input_tensor=x, \n",
    "                pooling='avg'\n",
    "            )\n",
    "       \n",
    "        else:\n",
    "            raise ValueError(f\"Nicht unterstütztes Modell: {model_name}\")\n",
    "    except Exception as e:\n",
    "        print(f\"Fehler bei der Modellinitialisierung für {model_name}: {e}\")\n",
    "        raise\n",
    "    \n",
    "    # Transfer Learning Einstellungen mit flexiblerer Konfiguration\n",
    "    base_model.trainable = True\n",
    "    freeze_layers = {\n",
    "        \"EfficientNetB0\": 150,\n",
    "        \"ResNet50\": 100\n",
    "    }\n",
    "    \n",
    "    for layer in base_model.layers[:freeze_layers.get(model_name, 0)]:\n",
    "        layer.trainable = False\n",
    "    \n",
    "    # Top Layers mit zusätzlicher Flexibilität\n",
    "    x = base_model.output\n",
    "    x = BatchNormalization()(x)\n",
    "    x = Dense(128, activation='relu', kernel_regularizer=l2(0.001))(x)\n",
    "    x = Dropout(0.5)(x)\n",
    "    outputs = Dense(len(all_diseases), activation='sigmoid')(x)\n",
    "    \n",
    "    model = Model(inputs, outputs)\n",
    "    \n",
    "    # Lernraten pro Modell\n",
    "    learning_rates = {\n",
    "        \"EfficientNetB0\": 5e-5,\n",
    "        \"ResNet50\": 1e-4\n",
    "    }\n",
    "    \n",
    "    model.compile(\n",
    "        optimizer=Adam(learning_rate=learning_rates.get(model_name, 1e-4)),\n",
    "        loss=weighted_binary_crossentropy(pos_weights, neg_weights),\n",
    "        metrics=[tf.keras.metrics.AUC(name='auc')]\n",
    "    )\n",
    "    \n",
    "    return model"
   ]
  },
  {
   "cell_type": "code",
   "execution_count": 19,
   "id": "3eedcc95-784b-4164-a2f3-696e6e186498",
   "metadata": {
    "scrolled": true
   },
   "outputs": [
    {
     "name": "stdout",
     "output_type": "stream",
     "text": [
      "\n",
      "=== Training EfficientNetB0 ===\n"
     ]
    },
    {
     "name": "stderr",
     "output_type": "stream",
     "text": [
      "W0000 00:00:1741336843.334009    5314 gpu_device.cc:2344] Cannot dlopen some GPU libraries. Please make sure the missing libraries mentioned above are installed properly if you would like to use GPU. Follow the guide at https://www.tensorflow.org/install/gpu for how to download and setup the required libraries for your platform.\n",
      "Skipping registering GPU devices...\n",
      "/home/cakir/jupyter_env/lib/python3.12/site-packages/keras/src/trainers/data_adapters/py_dataset_adapter.py:121: UserWarning: Your `PyDataset` class should call `super().__init__(**kwargs)` in its constructor. `**kwargs` can include `workers`, `use_multiprocessing`, `max_queue_size`. Do not pass these arguments to `fit()`, as they will be ignored.\n",
      "  self._warn_if_super_not_called()\n"
     ]
    },
    {
     "name": "stdout",
     "output_type": "stream",
     "text": [
      "Epoch 1/50\n",
      "865/865 - 869s - 1s/step - auc: 0.6973 - loss: 0.8178 - val_auc: 0.8373 - val_loss: 0.6333\n",
      "Epoch 2/50\n",
      "865/865 - 838s - 968ms/step - auc: 0.8002 - loss: 0.6544 - val_auc: 0.8598 - val_loss: 0.6026\n",
      "Epoch 3/50\n",
      "865/865 - 837s - 968ms/step - auc: 0.8301 - loss: 0.6080 - val_auc: 0.8688 - val_loss: 0.5751\n",
      "Epoch 4/50\n",
      "865/865 - 838s - 968ms/step - auc: 0.8482 - loss: 0.5739 - val_auc: 0.8773 - val_loss: 0.5493\n",
      "Epoch 5/50\n",
      "865/865 - 837s - 968ms/step - auc: 0.8620 - loss: 0.5423 - val_auc: 0.8814 - val_loss: 0.5264\n",
      "Epoch 6/50\n",
      "865/865 - 838s - 969ms/step - auc: 0.8699 - loss: 0.5172 - val_auc: 0.8848 - val_loss: 0.5065\n",
      "Epoch 7/50\n",
      "865/865 - 837s - 968ms/step - auc: 0.8768 - loss: 0.4941 - val_auc: 0.8854 - val_loss: 0.4899\n",
      "Epoch 8/50\n",
      "865/865 - 836s - 967ms/step - auc: 0.8834 - loss: 0.4718 - val_auc: 0.8847 - val_loss: 0.4749\n",
      "Epoch 9/50\n",
      "865/865 - 835s - 965ms/step - auc: 0.8881 - loss: 0.4526 - val_auc: 0.8851 - val_loss: 0.4638\n",
      "Epoch 10/50\n",
      "865/865 - 837s - 968ms/step - auc: 0.8939 - loss: 0.4339 - val_auc: 0.8849 - val_loss: 0.4536\n",
      "Epoch 11/50\n",
      "865/865 - 836s - 966ms/step - auc: 0.8979 - loss: 0.4178 - val_auc: 0.8870 - val_loss: 0.4434\n",
      "Epoch 12/50\n",
      "865/865 - 836s - 966ms/step - auc: 0.9030 - loss: 0.4025 - val_auc: 0.8827 - val_loss: 0.4381\n",
      "Epoch 13/50\n",
      "865/865 - 833s - 964ms/step - auc: 0.9071 - loss: 0.3886 - val_auc: 0.8836 - val_loss: 0.4326\n",
      "Epoch 14/50\n",
      "865/865 - 834s - 964ms/step - auc: 0.9106 - loss: 0.3771 - val_auc: 0.8832 - val_loss: 0.4273\n",
      "Epoch 15/50\n",
      "865/865 - 834s - 964ms/step - auc: 0.9153 - loss: 0.3636 - val_auc: 0.8822 - val_loss: 0.4322\n",
      "Epoch 16/50\n",
      "865/865 - 834s - 964ms/step - auc: 0.9184 - loss: 0.3535 - val_auc: 0.8778 - val_loss: 0.4268\n",
      "Epoch 16: early stopping\n",
      "Restoring model weights from the end of the best epoch: 11.\n",
      "\n",
      "=== Training ResNet50 ===\n",
      "Epoch 1/50\n",
      "865/865 - 1913s - 2s/step - auc: 0.7550 - loss: 0.7134 - val_auc: 0.7840 - val_loss: 0.8432\n",
      "Epoch 2/50\n",
      "865/865 - 1904s - 2s/step - auc: 0.8085 - loss: 0.6136 - val_auc: 0.7661 - val_loss: 0.7753\n",
      "Epoch 3/50\n",
      "865/865 - 1903s - 2s/step - auc: 0.8214 - loss: 0.5631 - val_auc: 0.7725 - val_loss: 0.6932\n",
      "Epoch 4/50\n",
      "865/865 - 1904s - 2s/step - auc: 0.8326 - loss: 0.5179 - val_auc: 0.7535 - val_loss: 0.6129\n",
      "Epoch 5/50\n",
      "865/865 - 1905s - 2s/step - auc: 0.8362 - loss: 0.4878 - val_auc: 0.8088 - val_loss: 0.7728\n",
      "Epoch 6/50\n",
      "865/865 - 1902s - 2s/step - auc: 0.8336 - loss: 0.4693 - val_auc: 0.7795 - val_loss: 0.7318\n",
      "Epoch 7/50\n",
      "865/865 - 1902s - 2s/step - auc: 0.8437 - loss: 0.4460 - val_auc: 0.7693 - val_loss: 0.6315\n",
      "Epoch 8/50\n",
      "865/865 - 1902s - 2s/step - auc: 0.8554 - loss: 0.4238 - val_auc: 0.7866 - val_loss: 0.4888\n",
      "Epoch 9/50\n",
      "865/865 - 1903s - 2s/step - auc: 0.8582 - loss: 0.4104 - val_auc: 0.8290 - val_loss: 0.5294\n",
      "Epoch 10/50\n",
      "865/865 - 1903s - 2s/step - auc: 0.8598 - loss: 0.4013 - val_auc: 0.8291 - val_loss: 0.5840\n",
      "Epoch 11/50\n",
      "865/865 - 1903s - 2s/step - auc: 0.8604 - loss: 0.3952 - val_auc: 0.7904 - val_loss: 0.7797\n",
      "Epoch 12/50\n",
      "865/865 - 1906s - 2s/step - auc: 0.8606 - loss: 0.3921 - val_auc: 0.7177 - val_loss: 1.9662\n",
      "Epoch 13/50\n",
      "865/865 - 1909s - 2s/step - auc: 0.8625 - loss: 0.3887 - val_auc: 0.8233 - val_loss: 0.6270\n",
      "Epoch 14/50\n",
      "865/865 - 1902s - 2s/step - auc: 0.8626 - loss: 0.3877 - val_auc: 0.7185 - val_loss: 1.9374\n",
      "Epoch 15/50\n",
      "865/865 - 1906s - 2s/step - auc: 0.8642 - loss: 0.3853 - val_auc: 0.8171 - val_loss: 0.4268\n",
      "Epoch 15: early stopping\n",
      "Restoring model weights from the end of the best epoch: 10.\n"
     ]
    }
   ],
   "source": [
    "models_to_train = [\"EfficientNetB0\", \"ResNet50\"]\n",
    "histories = {}\n",
    "\n",
    "for model_name in models_to_train:\n",
    "    try:\n",
    "        print(f\"\\n=== Training {model_name} ===\")\n",
    "        \n",
    "        # Modell erstellen\n",
    "        model = build_model(model_name)\n",
    "        \n",
    "        # Early Stopping mit verbesserten Parametern\n",
    "        early_stop = EarlyStopping(\n",
    "            monitor='val_auc',\n",
    "            patience=5,\n",
    "            mode='max',\n",
    "            restore_best_weights=True,\n",
    "            verbose=1\n",
    "        )\n",
    "        \n",
    "        # Training mit zusätzlicher Fehlerbehandlung\n",
    "        try:\n",
    "            history = model.fit(\n",
    "                train_generator,\n",
    "                validation_data=val_generator,\n",
    "                epochs=50,\n",
    "                callbacks=[early_stop],\n",
    "                verbose=2\n",
    "            )\n",
    "            \n",
    "            histories[model_name] = history.history\n",
    "            model.save(f\"{model_name}_xray_model.keras\")\n",
    "        except Exception as training_error:\n",
    "            print(f\"Trainingsfehler für {model_name}: {training_error}\")\n",
    "            continue\n",
    "    \n",
    "    except Exception as model_error:\n",
    "        print(f\"Modellerstellungsfehler für {model_name}: {model_error}\")\n",
    "        continue\n"
   ]
  },
  {
   "cell_type": "code",
   "execution_count": 20,
   "id": "73bc573b-312b-4cff-9790-a18d27879282",
   "metadata": {},
   "outputs": [
    {
     "name": "stdout",
     "output_type": "stream",
     "text": [
      "(None, 15)\n",
      "Label shape: (32, 15)\n"
     ]
    }
   ],
   "source": [
    "# Modellausgabe\n",
    "model.build((None, 224, 224, 1))\n",
    "print(model.output.shape)  # Sollte (None, 15) sein\n",
    "\n",
    "# Generator Check\n",
    "batch = next(iter(train_generator))\n",
    "print(\"Label shape:\", batch[1].shape)  # Muss (32, 15) sein"
   ]
  },
  {
   "cell_type": "code",
   "execution_count": 21,
   "id": "82af6256-1150-41a3-86aa-df04bb1f4b94",
   "metadata": {},
   "outputs": [
    {
     "data": {
      "image/png": "[encoded data removed]",
      "text/plain": [
       "<Figure size 1500x500 with 2 Axes>"
      ]
     },
     "metadata": {},
     "output_type": "display_data"
    }
   ],
   "source": [
    "plt.figure(figsize=(15, 5))\n",
    "colors = {'EfficientNetB0':'blue', 'ResNet50':'red'}\n",
    "\n",
    "# Validation AUC\n",
    "plt.subplot(1, 2, 1)\n",
    "for model_name, hist in histories.items():\n",
    "    plt.plot(hist['val_auc'], color=colors[model_name], linestyle='--', label=f'{model_name} Val')\n",
    "    plt.plot(hist['auc'], color=colors[model_name], label=f'{model_name} Train')\n",
    "plt.title('AUC Vergleich')\n",
    "plt.ylabel('AUC')\n",
    "plt.xlabel('Epoch')\n",
    "plt.legend()\n",
    "\n",
    "# Validation Loss\n",
    "plt.subplot(1, 2, 2)\n",
    "for model_name, hist in histories.items():\n",
    "    plt.plot(hist['val_loss'], color=colors[model_name], linestyle='--', label=f'{model_name} Val')\n",
    "    plt.plot(hist['loss'], color=colors[model_name], label=f'{model_name} Train')\n",
    "plt.title('Loss Vergleich')\n",
    "plt.ylabel('Loss')\n",
    "plt.xlabel('Epoch')\n",
    "plt.legend()\n",
    "\n",
    "plt.tight_layout()\n",
    "plt.show()"
   ]
  },
  {
   "cell_type": "code",
   "execution_count": null,
   "id": "2778ae73-8ffc-4d5f-b097-d7618138aa3b",
   "metadata": {},
   "outputs": [],
   "source": [
    "import tensorflow as tf\n",
    "from tensorflow.keras.layers import Input, Lambda, BatchNormalization, Dense, Dropout\n",
    "from tensorflow.keras.models import Model\n",
    "from tensorflow.keras.regularizers import l2\n",
    "from tensorflow.keras.optimizers import Adam\n",
    "from tensorflow.keras.applications import ConvNeXtTiny\n",
    "\n",
    "BATCH_SIZE = 8\n",
    "\n",
    "def convnext_preprocess(x):\n",
    "    mean = tf.constant([0.485, 0.456, 0.406], dtype=x.dtype)\n",
    "    std = tf.constant([0.229, 0.224, 0.225], dtype=x.dtype)\n",
    "    return (x - mean) / std\n",
    "\n",
    "def build_model(model_name, img_size=224):\n",
    "    # Eingabeschicht definieren\n",
    "    inputs = Input(shape=(img_size, img_size, 3))\n",
    "    \n",
    "    # Skalierung und Normalisierung\n",
    "    x = Lambda(lambda x: x / 255.0)(inputs)\n",
    "    x = Lambda(convnext_preprocess)(x)\n",
    "    \n",
    "    # Basismodell ohne Top-Schichten laden\n",
    "    base_model = ConvNeXtTiny(\n",
    "        include_top=False, \n",
    "        weights='imagenet', \n",
    "        input_shape=(img_size, img_size, 3),\n",
    "        pooling='avg'\n",
    "    )\n",
    "    \n",
    "    # Basismodell auf die Eingaben anwenden\n",
    "    x = base_model(x)\n",
    "    \n",
    "    # Basismodell-Schichten einfrieren\n",
    "    base_model.trainable = True\n",
    "    freeze_layers = {\n",
    "        \"ConvNeXt\": 150\n",
    "    }\n",
    "    for layer in base_model.layers[:freeze_layers.get(model_name, 0)]:\n",
    "        layer.trainable = False\n",
    "    \n",
    "    # Zusätzliche Schichten hinzufügen\n",
    "    x = BatchNormalization()(x)\n",
    "    x = Dense(128, activation='relu', kernel_regularizer=l2(0.001))(x)\n",
    "    x = Dropout(0.5)(x)\n",
    "    outputs = Dense(len(all_diseases), activation='sigmoid')(x)\n",
    "    \n",
    "    # Modell erstellen\n",
    "    model = Model(inputs, outputs)\n",
    "    \n",
    "    # Lernrate festlegen\n",
    "    learning_rates = {\n",
    "        \"ConvNeXt\": 1e-4\n",
    "    }\n",
    "    \n",
    "    # Modell kompilieren\n",
    "    model.compile(\n",
    "        optimizer=Adam(learning_rate=learning_rates.get(model_name, 1e-4)),\n",
    "        loss=weighted_binary_crossentropy(pos_weights, neg_weights),\n",
    "        metrics=[tf.keras.metrics.AUC(name='auc')]\n",
    "    )\n",
    "    \n",
    "    return model\n",
    "\n",
    "models_to_train = [ \"ConvNeXt\"]\n",
    "histories = {}\n",
    "\n",
    "for model_name in models_to_train:\n",
    "    try:\n",
    "        print(f\"\\n=== Training {model_name} ===\")\n",
    "        \n",
    "        # Modell erstellen\n",
    "        model = build_model(model_name)\n",
    "        \n",
    "        # Early Stopping mit verbesserten Parametern\n",
    "        early_stop = EarlyStopping(\n",
    "            monitor='val_auc',\n",
    "            patience=5 if model_name == \"ConvNeXt\" else 7,\n",
    "            mode='max',\n",
    "            restore_best_weights=True,\n",
    "            verbose=1\n",
    "        )\n",
    "        \n",
    "        # Training mit zusätzlicher Fehlerbehandlung\n",
    "        try:\n",
    "            history = model.fit(\n",
    "                train_generator,\n",
    "                validation_data=val_generator,\n",
    "                epochs=50,\n",
    "                callbacks=[early_stop],\n",
    "                verbose=2\n",
    "            )\n",
    "            \n",
    "            histories[model_name] = history.history\n",
    "            model.save(f\"{model_name}_xray_model.keras\")\n",
    "        except Exception as training_error:\n",
    "            print(f\"Trainingsfehler für {model_name}: {training_error}\")\n",
    "            continue\n",
    "    \n",
    "    except Exception as model_error:\n",
    "        print(f\"Modellerstellungsfehler für {model_name}: {model_error}\")\n",
    "        continue\n",
    "\n"
   ]
  },
  {
   "cell_type": "code",
   "execution_count": null,
   "id": "fb3d4de2-0168-4d05-b53d-880e938ad442",
   "metadata": {},
   "outputs": [],
   "source": [
    "plt.figure(figsize=(15, 5))\n",
    "colors = {'ConvNeXt':'green'}\n",
    "\n",
    "# Validation AUC\n",
    "plt.subplot(1, 2, 1)\n",
    "for model_name, hist in histories.items():\n",
    "    plt.plot(hist['val_auc'], color=colors[model_name], linestyle='--', label=f'{model_name} Val')\n",
    "    plt.plot(hist['auc'], color=colors[model_name], label=f'{model_name} Train')\n",
    "plt.title('AUC Vergleich')\n",
    "plt.ylabel('AUC')\n",
    "plt.xlabel('Epoch')\n",
    "plt.legend()\n",
    "\n",
    "# Validation Loss\n",
    "plt.subplot(1, 2, 2)\n",
    "for model_name, hist in histories.items():\n",
    "    plt.plot(hist['val_loss'], color=colors[model_name], linestyle='--', label=f'{model_name} Val')\n",
    "    plt.plot(hist['loss'], color=colors[model_name], label=f'{model_name} Train')\n",
    "plt.title('Loss Vergleich')\n",
    "plt.ylabel('Loss')\n",
    "plt.xlabel('Epoch')\n",
    "plt.legend()\n",
    "\n",
    "plt.tight_layout()\n",
    "plt.show()"
   ]
  },
  {
   "cell_type": "code",
   "execution_count": 24,
   "id": "45ab6380-b8ef-49bf-976a-0a1dd23084c9",
   "metadata": {},
   "outputs": [
    {
     "name": "stdout",
     "output_type": "stream",
     "text": [
      "(1, 224, 224, 3)\n"
     ]
    }
   ],
   "source": [
    "import numpy as np\n",
    "\n",
    "def convert_grayscale_to_rgb(image):\n",
    "    \"\"\" Konvertiert ein Graustufenbild (224, 224, 1) zu RGB (224, 224, 3) \"\"\"\n",
    "    return np.concatenate([image] * 3, axis=-1)\n",
    "\n",
    "# Beispiel mit einem Tensor (Batch von Bildern)\n",
    "x_gray = np.random.rand(1, 224, 224, 1)  # Dummy-Bild in Graustufen\n",
    "x_rgb = convert_grayscale_to_rgb(x_gray)\n",
    "print(x_rgb.shape)  # Sollte (1, 224, 224, 3) sein\n"
   ]
  }
 ],
 "metadata": {
  "kernelspec": {
   "display_name": "Python 3 (ipykernel)",
   "language": "python",
   "name": "python3"
  },
  "language_info": {
   "codemirror_mode": {
    "name": "ipython",
    "version": 3
   },
   "file_extension": ".py",
   "mimetype": "text/x-python",
   "name": "python",
   "nbconvert_exporter": "python",
   "pygments_lexer": "ipython3",
   "version": "3.12.3"
  }
 },
 "nbformat": 4,
 "nbformat_minor": 5
}
